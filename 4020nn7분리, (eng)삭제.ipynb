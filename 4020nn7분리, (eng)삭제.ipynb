{
 "cells": [
  {
   "cell_type": "code",
   "execution_count": 1,
   "metadata": {},
   "outputs": [],
   "source": [
    "import re\n",
    "import pandas as pd\n",
    "import numpy as np\n",
    "txt_folder = 'txt_files'\n",
    "csv_folder = 'csv_files'\n",
    "sep = '\\^B'"
   ]
  },
  {
   "cell_type": "code",
   "execution_count": null,
   "metadata": {},
   "outputs": [],
   "source": [
    "df_19 = pd.read_csv(f'{csv_folder}/19년도_병합_출원인대리인코드.csv', encoding='utf-8', low_memory=False)\n",
    "df_20 = pd.read_csv(f'{csv_folder}/20년도_병합_출원인대리인코드.csv', encoding='utf-8', low_memory=False)"
   ]
  },
  {
   "cell_type": "code",
   "execution_count": null,
   "metadata": {},
   "outputs": [],
   "source": [
    "df_19_before = df_19[df_19['출원번호'] // 1000000 - 4020190 != 7]\n",
    "df_19_after = df_19[df_19['출원번호'] // 1000000 - 4020190 == 7]\n",
    "\n",
    "df_20_before = df_20[df_20['출원번호'] // 1000000 - 4020200 != 7]\n",
    "df_20_after = df_20[df_20['출원번호'] // 1000000 - 4020200 == 7]"
   ]
  },
  {
   "cell_type": "code",
   "execution_count": null,
   "metadata": {
    "scrolled": true
   },
   "outputs": [],
   "source": [
    "display(df_19_before.head(10))\n",
    "display(df_19_after.head(10))\n",
    "\n",
    "display(df_20_before.head(10))\n",
    "display(df_20_after.head(10))"
   ]
  },
  {
   "cell_type": "code",
   "execution_count": null,
   "metadata": {},
   "outputs": [],
   "source": [
    "df_19_before.to_csv(f'{csv_folder}/19년도_병합_출원인대리인코드_국내.csv', encoding='utf-8', index=False)\n",
    "df_19_after.to_csv(f'{csv_folder}/19년도_병합_출원인대리인코드_해외.csv', encoding='utf-8', index=False)\n",
    "\n",
    "df_20_before.to_csv(f'{csv_folder}/20년도_병합_출원인대리인코드_국내.csv', encoding='utf-8', index=False)\n",
    "df_20_after.to_csv(f'{csv_folder}/20년도_병합_출원인대리인코드_해외.csv', encoding='utf-8', index=False)"
   ]
  },
  {
   "cell_type": "code",
   "execution_count": 2,
   "metadata": {
    "scrolled": true
   },
   "outputs": [],
   "source": [
    "import re\n",
    "import pandas as pd\n",
    "import numpy as np\n",
    "txt_folder = 'txt_files'\n",
    "csv_folder = 'csv_files'\n",
    "sep = '\\^B'\n",
    "df_19_before = pd.read_csv(f'{csv_folder}/20년도_병합_출원인대리인코드_국내.csv', encoding='utf-8', chunksize=10000)"
   ]
  },
  {
   "cell_type": "code",
   "execution_count": null,
   "metadata": {},
   "outputs": [],
   "source": [
    "df_19_new_before = pd.DataFrame()\n",
    "\n",
    "for df in df_19_before:\n",
    "    df['지정상품한글명_수정'] = df['지정상품한글명'].str.match('^(.+)\\(([a-zA-Z0-9, \\-?, \\s?]+)+\\)\\s*$')\n",
    "    df_19_new_before = pd.concat([df_19_new_before, df])"
   ]
  },
  {
   "cell_type": "code",
   "execution_count": null,
   "metadata": {},
   "outputs": [],
   "source": [
    "df_19_new_before[df_19_new_before['지정상품한글명_수정'] == True]"
   ]
  }
 ],
 "metadata": {
  "kernelspec": {
   "display_name": "Python 3",
   "language": "python",
   "name": "python3"
  },
  "language_info": {
   "codemirror_mode": {
    "name": "ipython",
    "version": 3
   },
   "file_extension": ".py",
   "mimetype": "text/x-python",
   "name": "python",
   "nbconvert_exporter": "python",
   "pygments_lexer": "ipython3",
   "version": "3.7.6"
  }
 },
 "nbformat": 4,
 "nbformat_minor": 4
}
